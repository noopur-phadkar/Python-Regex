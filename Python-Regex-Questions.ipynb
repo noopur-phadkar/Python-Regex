{
 "metadata": {
  "kernelspec": {
   "language": "python",
   "display_name": "Python 3",
   "name": "python3"
  },
  "language_info": {
   "pygments_lexer": "ipython3",
   "nbconvert_exporter": "python",
   "version": "3.6.4",
   "file_extension": ".py",
   "codemirror_mode": {
    "name": "ipython",
    "version": 3
   },
   "name": "python",
   "mimetype": "text/x-python"
  },
  "kaggle": {
   "accelerator": "none",
   "dataSources": [],
   "dockerImageVersionId": 29867,
   "isInternetEnabled": false,
   "language": "python",
   "sourceType": "notebook",
   "isGpuEnabled": false
  }
 },
 "nbformat_minor": 4,
 "nbformat": 4,
 "cells": [
  {
   "cell_type": "markdown",
   "source": [
    "# 30 REGULAR EXPRESSION EXERCISES + SOLUTIONS!"
   ],
   "metadata": {}
  },
  {
   "cell_type": "markdown",
   "source": [
    "Regex, you never know when they might come in handy. It's one of the \"good programmer\"'s fundamental yet a few people actually masters them.\n",
    "\n",
    "Challenge yourself in 30 exercises, just hide the solution in order not to peek ;)"
   ],
   "metadata": {}
  },
  {
   "cell_type": "code",
   "source": [
    "import re"
   ],
   "metadata": {
    "trusted": true,
    "ExecuteTime": {
     "end_time": "2024-07-02T02:57:48.559309Z",
     "start_time": "2024-07-02T02:57:48.545953Z"
    }
   },
   "execution_count": 1,
   "outputs": []
  },
  {
   "cell_type": "markdown",
   "source": [
    "1) Write a Python program to check that a string contains only a certain set of characters (in this case a-z, A-Z and 0-9)."
   ],
   "metadata": {}
  },
  {
   "cell_type": "code",
   "source": [
    "# Your code here\n",
    "def q1(string):\n",
    "    check_pattern = re.compile(r'^[a-zA-Z0-9]*$')\n",
    "    print(bool(check_pattern.search(string)))\n",
    "\n",
    "q1('hEllO09')\n",
    "q1('hel$lo')"
   ],
   "metadata": {
    "trusted": true,
    "ExecuteTime": {
     "end_time": "2024-07-02T02:57:49.611237Z",
     "start_time": "2024-07-02T02:57:49.594083Z"
    }
   },
   "execution_count": 2,
   "outputs": [
    {
     "name": "stdout",
     "output_type": "stream",
     "text": [
      "True\n",
      "False\n"
     ]
    }
   ]
  },
  {
   "cell_type": "markdown",
   "source": [
    "2) Write a Python program that matches a string that has an a followed by zero or more b's"
   ],
   "metadata": {}
  },
  {
   "cell_type": "code",
   "source": [
    "# Your code here\n",
    "def q2(string):\n",
    "    check_pattern = re.compile(r'^[a][b]*$')\n",
    "    print(bool(check_pattern.search(string)))\n",
    "\n",
    "q2('a')\n",
    "q2('aa')\n",
    "q2('ab')\n",
    "q2('abbb')"
   ],
   "metadata": {
    "trusted": true,
    "ExecuteTime": {
     "end_time": "2024-07-02T02:57:50.770575Z",
     "start_time": "2024-07-02T02:57:50.758381Z"
    }
   },
   "execution_count": 3,
   "outputs": [
    {
     "name": "stdout",
     "output_type": "stream",
     "text": [
      "True\n",
      "False\n",
      "True\n",
      "True\n"
     ]
    }
   ]
  },
  {
   "cell_type": "markdown",
   "source": [
    "3) Write a Python program that matches a string that has an a followed by one or more b's"
   ],
   "metadata": {}
  },
  {
   "cell_type": "code",
   "source": [
    "# Your code here\n",
    "def q3(string):\n",
    "    check_pattern = re.compile(r'^[a][b]+$')\n",
    "    print(bool(check_pattern.search(string)))\n",
    "\n",
    "q3('a')\n",
    "q3('aa')\n",
    "q3('ab')\n",
    "q3('abbb')"
   ],
   "metadata": {
    "trusted": true,
    "ExecuteTime": {
     "end_time": "2024-07-02T02:57:51.679209Z",
     "start_time": "2024-07-02T02:57:51.670621Z"
    }
   },
   "execution_count": 4,
   "outputs": [
    {
     "name": "stdout",
     "output_type": "stream",
     "text": [
      "False\n",
      "False\n",
      "True\n",
      "True\n"
     ]
    }
   ]
  },
  {
   "cell_type": "markdown",
   "source": [
    "4) Write a Python program that matches a string that has an a followed by zero or one 'b'"
   ],
   "metadata": {}
  },
  {
   "cell_type": "code",
   "source": [
    "# Your code here\n",
    "def q4(string):\n",
    "    check_pattern = re.compile(r'^[a]b{0,1}$')\n",
    "    print(bool(check_pattern.search(string)))\n",
    "\n",
    "q4('a')\n",
    "q4('aa')\n",
    "q4('ab')\n",
    "q4('abbb')"
   ],
   "metadata": {
    "trusted": true,
    "ExecuteTime": {
     "end_time": "2024-07-02T02:57:52.575204Z",
     "start_time": "2024-07-02T02:57:52.565798Z"
    }
   },
   "execution_count": 5,
   "outputs": [
    {
     "name": "stdout",
     "output_type": "stream",
     "text": [
      "True\n",
      "False\n",
      "True\n",
      "False\n"
     ]
    }
   ]
  },
  {
   "cell_type": "markdown",
   "source": [
    "5) Write a Python program that matches a string that has an a followed by three 'b'"
   ],
   "metadata": {}
  },
  {
   "cell_type": "code",
   "source": [
    "# Solution\n",
    "def text_match(text):\n",
    "        patterns = 'ab{3}?'\n",
    "        if re.search(patterns,  text):\n",
    "                return 'Found a match!'\n",
    "        else:\n",
    "                return('Not matched!')\n",
    "\n",
    "print(text_match(\"abbb\"))\n",
    "print(text_match(\"aabbbbbc\"))"
   ],
   "metadata": {
    "trusted": true,
    "ExecuteTime": {
     "end_time": "2024-07-02T02:57:53.705960Z",
     "start_time": "2024-07-02T02:57:53.698044Z"
    }
   },
   "execution_count": 6,
   "outputs": [
    {
     "name": "stdout",
     "output_type": "stream",
     "text": [
      "Found a match!\n",
      "Found a match!\n"
     ]
    }
   ]
  },
  {
   "cell_type": "markdown",
   "source": [
    "6) Write a Python program that matches a string that has an a followed by two to three 'b'."
   ],
   "metadata": {}
  },
  {
   "cell_type": "code",
   "source": [
    "# Solution\n",
    "def text_match(text):\n",
    "        patterns = 'ab{2,3}?'\n",
    "        if re.search(patterns,  text):\n",
    "                return 'Found a match!'\n",
    "        else:\n",
    "                return('Not matched!')\n",
    "\n",
    "print(text_match(\"ab\"))\n",
    "print(text_match(\"aabbbbbc\"))"
   ],
   "metadata": {
    "trusted": true,
    "ExecuteTime": {
     "end_time": "2024-07-02T02:57:54.544288Z",
     "start_time": "2024-07-02T02:57:54.537501Z"
    }
   },
   "execution_count": 7,
   "outputs": [
    {
     "name": "stdout",
     "output_type": "stream",
     "text": [
      "Not matched!\n",
      "Found a match!\n"
     ]
    }
   ]
  },
  {
   "cell_type": "markdown",
   "source": [
    "7) Write a Python program to find sequences of lowercase letters joined with a underscore."
   ],
   "metadata": {}
  },
  {
   "cell_type": "code",
   "source": [
    "# Solution\n",
    "def text_match(text):\n",
    "        patterns = '^[a-z]+_[a-z]+$'\n",
    "        if re.search(patterns,  text):\n",
    "                return 'Found a match!'\n",
    "        else:\n",
    "                return('Not matched!')\n",
    "\n",
    "print(text_match(\"aab_cbbbc\"))\n",
    "print(text_match(\"aab_Abbbc\"))\n",
    "print(text_match(\"Aaab_abbbc\"))"
   ],
   "metadata": {
    "trusted": true,
    "ExecuteTime": {
     "end_time": "2024-07-02T02:57:55.320703Z",
     "start_time": "2024-07-02T02:57:55.314159Z"
    }
   },
   "execution_count": 8,
   "outputs": [
    {
     "name": "stdout",
     "output_type": "stream",
     "text": [
      "Found a match!\n",
      "Not matched!\n",
      "Not matched!\n"
     ]
    }
   ]
  },
  {
   "cell_type": "markdown",
   "source": [
    "8) Write a Python program to find the sequences of one upper case letter followed by lower case letters."
   ],
   "metadata": {}
  },
  {
   "cell_type": "code",
   "source": [
    "# Solution\n",
    "def text_match(text):\n",
    "        patterns = '^[a-z]+_[a-z]+$'\n",
    "        if not re.search(patterns,  text):\n",
    "                return 'Found a match!'\n",
    "        else:\n",
    "                return('Not matched!')\n",
    "\n",
    "print(text_match(\"aab_cbbbc\"))\n",
    "print(text_match(\"aab_Abbbc\"))\n",
    "print(text_match(\"Aaab_abbbc\"))"
   ],
   "metadata": {
    "trusted": true,
    "ExecuteTime": {
     "end_time": "2024-07-02T02:57:56.222134Z",
     "start_time": "2024-07-02T02:57:56.215799Z"
    }
   },
   "execution_count": 9,
   "outputs": [
    {
     "name": "stdout",
     "output_type": "stream",
     "text": [
      "Not matched!\n",
      "Found a match!\n",
      "Found a match!\n"
     ]
    }
   ]
  },
  {
   "cell_type": "markdown",
   "source": [
    "9) Write a Python program that matches a string that has an 'a' followed by anything, ending in 'b'."
   ],
   "metadata": {}
  },
  {
   "cell_type": "code",
   "source": [
    "# Solution\n",
    "def text_match(text):\n",
    "        patterns = 'a.*?b$'\n",
    "        if re.search(patterns,  text):\n",
    "                return 'Found a match!'\n",
    "        else:\n",
    "                return('Not matched!')\n",
    "\n",
    "print(text_match(\"aabbbbd\"))\n",
    "print(text_match(\"aabAbbbc\"))\n",
    "print(text_match(\"accddbbjjjb\"))"
   ],
   "metadata": {
    "trusted": true,
    "ExecuteTime": {
     "end_time": "2024-07-02T02:57:56.954028Z",
     "start_time": "2024-07-02T02:57:56.946759Z"
    }
   },
   "execution_count": 10,
   "outputs": [
    {
     "name": "stdout",
     "output_type": "stream",
     "text": [
      "Not matched!\n",
      "Not matched!\n",
      "Found a match!\n"
     ]
    }
   ]
  },
  {
   "cell_type": "markdown",
   "source": [
    "10) Write a Python program that matches a word at the beginning of a string."
   ],
   "metadata": {}
  },
  {
   "cell_type": "code",
   "source": [
    "# Solution\n",
    "def text_match(text):\n",
    "        patterns = '^\\w+'\n",
    "        if re.search(patterns,  text):\n",
    "                return 'Found a match!'\n",
    "        else:\n",
    "                return('Not matched!')\n",
    "\n",
    "print(text_match(\"The quick brown fox jumps over the lazy dog.\"))\n",
    "print(text_match(\" The quick brown fox jumps over the lazy dog.\"))"
   ],
   "metadata": {
    "trusted": true,
    "ExecuteTime": {
     "end_time": "2024-07-02T02:57:57.588362Z",
     "start_time": "2024-07-02T02:57:57.580679Z"
    }
   },
   "execution_count": 11,
   "outputs": [
    {
     "name": "stdout",
     "output_type": "stream",
     "text": [
      "Found a match!\n",
      "Not matched!\n"
     ]
    }
   ]
  },
  {
   "cell_type": "markdown",
   "source": [
    "11) Write a Python program that matches a word at the end of string, with optional punctuation."
   ],
   "metadata": {}
  },
  {
   "cell_type": "code",
   "source": [
    "# Solution\n",
    "def text_match(text):\n",
    "        patterns = '\\w+\\S*$'\n",
    "        if re.search(patterns,  text):\n",
    "                return 'Found a match!'\n",
    "        else:\n",
    "                return('Not matched!')\n",
    "\n",
    "print(text_match(\"The quick brown fox jumps over the lazy dog.\"))\n",
    "print(text_match(\"The quick brown fox jumps over the lazy dog. \"))\n",
    "print(text_match(\"The quick brown fox jumps over the lazy dog \"))"
   ],
   "metadata": {
    "trusted": true,
    "ExecuteTime": {
     "end_time": "2024-07-02T02:57:58.219445Z",
     "start_time": "2024-07-02T02:57:58.208691Z"
    }
   },
   "execution_count": 12,
   "outputs": [
    {
     "name": "stdout",
     "output_type": "stream",
     "text": [
      "Found a match!\n",
      "Not matched!\n",
      "Not matched!\n"
     ]
    }
   ]
  },
  {
   "cell_type": "markdown",
   "source": [
    "12) Write a Python program that matches a word containing 'z'"
   ],
   "metadata": {}
  },
  {
   "cell_type": "code",
   "source": [
    "# Solution\n",
    "def text_match(text):\n",
    "        patterns = '\\w*z.\\w*'\n",
    "        if re.search(patterns,  text):\n",
    "                return 'Found a match!'\n",
    "        else:\n",
    "                return('Not matched!')\n",
    "\n",
    "print(text_match(\"The quick brown fox jumps over the lazy dog.\"))\n",
    "print(text_match(\"Python Exercises.\"))"
   ],
   "metadata": {
    "trusted": true,
    "ExecuteTime": {
     "end_time": "2024-07-02T02:57:58.936777Z",
     "start_time": "2024-07-02T02:57:58.929728Z"
    }
   },
   "execution_count": 13,
   "outputs": [
    {
     "name": "stdout",
     "output_type": "stream",
     "text": [
      "Found a match!\n",
      "Not matched!\n"
     ]
    }
   ]
  },
  {
   "cell_type": "markdown",
   "source": [
    "13) Write a Python program that matches a word containing 'z', not at the start or end of the word."
   ],
   "metadata": {}
  },
  {
   "cell_type": "code",
   "source": [
    "# Solution\n",
    "def text_match(text):\n",
    "        patterns = '\\Bz\\B'\n",
    "        if re.search(patterns,  text):\n",
    "                return 'Found a match!'\n",
    "        else:\n",
    "                return('Not matched!')\n",
    "\n",
    "print(text_match(\"The quick brown fox jumps over the lazy dog.\"))\n",
    "print(text_match(\"Python Exercises.\"))"
   ],
   "metadata": {
    "trusted": true,
    "ExecuteTime": {
     "end_time": "2024-07-02T02:57:59.634442Z",
     "start_time": "2024-07-02T02:57:59.627348Z"
    }
   },
   "execution_count": 14,
   "outputs": [
    {
     "name": "stdout",
     "output_type": "stream",
     "text": [
      "Found a match!\n",
      "Not matched!\n"
     ]
    }
   ]
  },
  {
   "cell_type": "markdown",
   "source": [
    "14) Write a Python program to match a string that contains only upper and lowercase letters, numbers, and underscores."
   ],
   "metadata": {}
  },
  {
   "cell_type": "code",
   "source": [
    "# Solution\n",
    "def text_match(text):\n",
    "        patterns = '^[a-zA-Z0-9_]*$'\n",
    "        if re.search(patterns,  text):\n",
    "                return 'Found a match!'\n",
    "        else:\n",
    "                return('Not matched!')\n",
    "\n",
    "print(text_match(\"The quick brown fox jumps over the lazy dog.\"))\n",
    "print(text_match(\"Python_Exercises_1\"))"
   ],
   "metadata": {
    "trusted": true,
    "ExecuteTime": {
     "end_time": "2024-07-02T02:58:00.284641Z",
     "start_time": "2024-07-02T02:58:00.278307Z"
    }
   },
   "execution_count": 15,
   "outputs": [
    {
     "name": "stdout",
     "output_type": "stream",
     "text": [
      "Not matched!\n",
      "Found a match!\n"
     ]
    }
   ]
  },
  {
   "cell_type": "markdown",
   "source": [
    "15) Write a Python program where a string will start with a specific number. "
   ],
   "metadata": {}
  },
  {
   "cell_type": "code",
   "source": [
    "# Solution\n",
    "def match_num(string):\n",
    "    text = re.compile(r\"^5\")\n",
    "    if text.match(string):\n",
    "        return True\n",
    "    else:\n",
    "        return False\n",
    "print(match_num('5-2345861'))\n",
    "print(match_num('6-2345861'))"
   ],
   "metadata": {
    "trusted": true,
    "ExecuteTime": {
     "end_time": "2024-07-02T02:58:00.974686Z",
     "start_time": "2024-07-02T02:58:00.967684Z"
    }
   },
   "execution_count": 16,
   "outputs": [
    {
     "name": "stdout",
     "output_type": "stream",
     "text": [
      "True\n",
      "False\n"
     ]
    }
   ]
  },
  {
   "cell_type": "markdown",
   "source": [
    "16) Write a Python program to remove leading zeros from an IP address"
   ],
   "metadata": {}
  },
  {
   "cell_type": "code",
   "source": [
    "# Solution\n",
    "ip = \"216.08.094.196\"\n",
    "string = re.sub('\\.[0]*', '.', ip)\n",
    "print(string)"
   ],
   "metadata": {
    "trusted": true,
    "ExecuteTime": {
     "end_time": "2024-07-02T02:58:01.723539Z",
     "start_time": "2024-07-02T02:58:01.706996Z"
    }
   },
   "execution_count": 17,
   "outputs": [
    {
     "name": "stdout",
     "output_type": "stream",
     "text": [
      "216.8.94.196\n"
     ]
    }
   ]
  },
  {
   "cell_type": "markdown",
   "source": [
    "17) Write a Python program to check for a number at the end of a string."
   ],
   "metadata": {}
  },
  {
   "cell_type": "code",
   "source": [
    "# Solution\n",
    "def end_num(string):\n",
    "    text = re.compile(r\".*[0-9]$\")\n",
    "    if text.match(string):\n",
    "        return True\n",
    "    else:\n",
    "        return False\n",
    "\n",
    "print(end_num('abcdef'))\n",
    "print(end_num('abcdef6'))"
   ],
   "metadata": {
    "trusted": true,
    "ExecuteTime": {
     "end_time": "2024-07-02T02:58:02.407211Z",
     "start_time": "2024-07-02T02:58:02.394123Z"
    }
   },
   "execution_count": 18,
   "outputs": [
    {
     "name": "stdout",
     "output_type": "stream",
     "text": [
      "False\n",
      "True\n"
     ]
    }
   ]
  },
  {
   "cell_type": "markdown",
   "source": [
    "18) Write a Python program to search the numbers (0-9) of length between 1 to 3 in a given string. "
   ],
   "metadata": {}
  },
  {
   "cell_type": "code",
   "source": [
    "# Solution\n",
    "results = re.finditer(r\"([0-9]{1,3})\", \"Exercises number 1, 12, 13, and 345 are important\")\n",
    "print(\"Number of length 1 to 3\")\n",
    "for n in results:\n",
    "     print(n.group(0))"
   ],
   "metadata": {
    "trusted": true,
    "ExecuteTime": {
     "end_time": "2024-07-02T02:58:03.572971Z",
     "start_time": "2024-07-02T02:58:03.565506Z"
    }
   },
   "execution_count": 19,
   "outputs": [
    {
     "name": "stdout",
     "output_type": "stream",
     "text": [
      "Number of length 1 to 3\n",
      "1\n",
      "12\n",
      "13\n",
      "345\n"
     ]
    }
   ]
  },
  {
   "cell_type": "markdown",
   "source": [
    "19) Write a Python program to search some literals strings in a string. Go to the editor\n",
    "Sample text : 'The quick brown fox jumps over the lazy dog.'\n",
    "Searched words : 'fox', 'dog', 'horse'"
   ],
   "metadata": {}
  },
  {
   "cell_type": "code",
   "source": [
    "# Solution\n",
    "patterns = [ 'fox', 'dog', 'horse' ]\n",
    "text = 'The quick brown fox jumps over the lazy dog.'\n",
    "for pattern in patterns:\n",
    "    print('Searching for \"%s\" in \"%s\" ->' % (pattern, text),)\n",
    "    if re.search(pattern,  text):\n",
    "        print('Matched!')\n",
    "    else:\n",
    "        print('Not Matched!')"
   ],
   "metadata": {
    "trusted": true,
    "ExecuteTime": {
     "end_time": "2024-07-02T02:58:04.365717Z",
     "start_time": "2024-07-02T02:58:04.344546Z"
    }
   },
   "execution_count": 20,
   "outputs": [
    {
     "name": "stdout",
     "output_type": "stream",
     "text": [
      "Searching for \"fox\" in \"The quick brown fox jumps over the lazy dog.\" ->\n",
      "Matched!\n",
      "Searching for \"dog\" in \"The quick brown fox jumps over the lazy dog.\" ->\n",
      "Matched!\n",
      "Searching for \"horse\" in \"The quick brown fox jumps over the lazy dog.\" ->\n",
      "Not Matched!\n"
     ]
    }
   ]
  },
  {
   "cell_type": "markdown",
   "source": [
    "20) Write a Python program to search a literals string in a string and also find the location within the original string where the pattern occurs\n",
    "\n",
    "Sample text : 'The quick brown fox jumps over the lazy dog.'\n",
    "Searched words : 'fox'"
   ],
   "metadata": {}
  },
  {
   "cell_type": "code",
   "source": [
    "# Solution\n",
    "pattern = 'fox'\n",
    "text = 'The quick brown fox jumps over the lazy dog.'\n",
    "match = re.search(pattern, text)\n",
    "s = match.start()\n",
    "e = match.end()\n",
    "print('Found \"%s\" in \"%s\" from %d to %d ' % (match.re.pattern, match.string, s, e))"
   ],
   "metadata": {
    "trusted": true,
    "ExecuteTime": {
     "end_time": "2024-07-02T02:58:05.212119Z",
     "start_time": "2024-07-02T02:58:05.205145Z"
    }
   },
   "execution_count": 21,
   "outputs": [
    {
     "name": "stdout",
     "output_type": "stream",
     "text": [
      "Found \"fox\" in \"The quick brown fox jumps over the lazy dog.\" from 16 to 19 \n"
     ]
    }
   ]
  },
  {
   "cell_type": "markdown",
   "source": [
    "21) Write a Python program to find the substrings within a string.\n",
    "\n",
    "Sample text :\n",
    "\n",
    "'Python exercises, PHP exercises, C# exercises'\n",
    "\n",
    "Pattern :\n",
    "\n",
    "'exercises'\n",
    "\n",
    "Note: There are two instances of exercises in the input string."
   ],
   "metadata": {}
  },
  {
   "cell_type": "code",
   "source": [
    "# Solution\n",
    "text = 'Python exercises, PHP exercises, C# exercises'\n",
    "pattern = 'exercises'\n",
    "for match in re.findall(pattern, text):\n",
    "    print('Found \"%s\"' % match)"
   ],
   "metadata": {
    "trusted": true,
    "ExecuteTime": {
     "end_time": "2024-07-02T02:58:06.669891Z",
     "start_time": "2024-07-02T02:58:06.663102Z"
    }
   },
   "execution_count": 22,
   "outputs": [
    {
     "name": "stdout",
     "output_type": "stream",
     "text": [
      "Found \"exercises\"\n",
      "Found \"exercises\"\n",
      "Found \"exercises\"\n"
     ]
    }
   ]
  },
  {
   "cell_type": "markdown",
   "source": [
    "22) Write a Python program to find the occurrence and position of the substrings within a string."
   ],
   "metadata": {}
  },
  {
   "cell_type": "code",
   "source": [
    "# Solution\n",
    "text = 'Python exercises, PHP exercises, C# exercises'\n",
    "pattern = 'exercises'\n",
    "for match in re.finditer(pattern, text):\n",
    "    s = match.start()\n",
    "    e = match.end()\n",
    "    print('Found \"%s\" at %d:%d' % (text[s:e], s, e))"
   ],
   "metadata": {
    "trusted": true,
    "ExecuteTime": {
     "end_time": "2024-07-02T02:58:07.416810Z",
     "start_time": "2024-07-02T02:58:07.407551Z"
    }
   },
   "execution_count": 23,
   "outputs": [
    {
     "name": "stdout",
     "output_type": "stream",
     "text": [
      "Found \"exercises\" at 7:16\n",
      "Found \"exercises\" at 22:31\n",
      "Found \"exercises\" at 36:45\n"
     ]
    }
   ]
  },
  {
   "cell_type": "markdown",
   "source": [
    "23) Write a Python program to replace whitespaces with an underscore and vice versa."
   ],
   "metadata": {}
  },
  {
   "cell_type": "code",
   "source": [
    "# Solution\n",
    "text = 'Python Exercises'\n",
    "text =text.replace (\" \", \"_\")\n",
    "print(text)\n",
    "text =text.replace (\"_\", \" \")\n",
    "print(text)"
   ],
   "metadata": {
    "trusted": true,
    "ExecuteTime": {
     "end_time": "2024-07-02T02:58:08.168360Z",
     "start_time": "2024-07-02T02:58:08.160850Z"
    }
   },
   "execution_count": 24,
   "outputs": [
    {
     "name": "stdout",
     "output_type": "stream",
     "text": [
      "Python_Exercises\n",
      "Python Exercises\n"
     ]
    }
   ]
  },
  {
   "cell_type": "markdown",
   "source": [
    "24) Write a Python program to extract year, month and date from a an url. "
   ],
   "metadata": {}
  },
  {
   "cell_type": "code",
   "source": [
    "# Solution\n",
    "def extract_date(url):\n",
    "        return re.findall(r'/(\\d{4})/(\\d{1,2})/(\\d{1,2})/', url)\n",
    "url1= \"https://www.washingtonpost.com/news/football-insider/wp/2016/09/02/odell-beckhams-fame-rests-on-one-stupid-little-ball-josh-norman-tells-author/\"\n",
    "print(extract_date(url1))"
   ],
   "metadata": {
    "trusted": true,
    "ExecuteTime": {
     "end_time": "2024-07-02T02:58:08.879593Z",
     "start_time": "2024-07-02T02:58:08.870046Z"
    }
   },
   "execution_count": 25,
   "outputs": [
    {
     "name": "stdout",
     "output_type": "stream",
     "text": [
      "[('2016', '09', '02')]\n"
     ]
    }
   ]
  },
  {
   "cell_type": "markdown",
   "source": [
    "25) Write a Python program to convert a date of yyyy-mm-dd format to dd-mm-yyyy format."
   ],
   "metadata": {}
  },
  {
   "cell_type": "code",
   "source": [
    "# Solution\n",
    "def change_date_format(dt):\n",
    "        return re.sub(r'(\\d{4})-(\\d{1,2})-(\\d{1,2})', '\\\\3-\\\\2-\\\\1', dt)\n",
    "dt1 = \"2026-01-02\"\n",
    "print(\"Original date in YYY-MM-DD Format: \",dt1)\n",
    "print(\"New date in DD-MM-YYYY Format: \",change_date_format(dt1))"
   ],
   "metadata": {
    "trusted": true,
    "ExecuteTime": {
     "end_time": "2024-07-02T02:58:09.560299Z",
     "start_time": "2024-07-02T02:58:09.550855Z"
    }
   },
   "execution_count": 26,
   "outputs": [
    {
     "name": "stdout",
     "output_type": "stream",
     "text": [
      "Original date in YYY-MM-DD Format:  2026-01-02\n",
      "New date in DD-MM-YYYY Format:  02-01-2026\n"
     ]
    }
   ]
  },
  {
   "cell_type": "markdown",
   "source": [
    "26) Write a Python program to match if two words from a list of words starting with letter 'P'."
   ],
   "metadata": {}
  },
  {
   "cell_type": "code",
   "source": [
    "# Solution\n",
    "def change_date_format(dt):\n",
    "        return re.sub(r'(\\d{4})-(\\d{1,2})-(\\d{1,2})', '\\\\3-\\\\2-\\\\1', dt)\n",
    "dt1 = \"2026-01-02\"\n",
    "print(\"Original date in YYY-MM-DD Format: \",dt1)\n",
    "print(\"New date in DD-MM-YYYY Format: \",change_date_format(dt1))"
   ],
   "metadata": {
    "trusted": true,
    "ExecuteTime": {
     "end_time": "2024-07-02T02:58:10.258756Z",
     "start_time": "2024-07-02T02:58:10.250288Z"
    }
   },
   "execution_count": 27,
   "outputs": [
    {
     "name": "stdout",
     "output_type": "stream",
     "text": [
      "Original date in YYY-MM-DD Format:  2026-01-02\n",
      "New date in DD-MM-YYYY Format:  02-01-2026\n"
     ]
    }
   ]
  },
  {
   "cell_type": "markdown",
   "source": [
    "27) Write a Python program to separate and print the numbers of a given string."
   ],
   "metadata": {}
  },
  {
   "cell_type": "code",
   "source": [
    "# Solution\n",
    "# Sample string.\n",
    "text = \"Ten 10, Twenty 20, Thirty 30\"\n",
    "result = re.split(\"\\D+\", text)\n",
    "# Print results.\n",
    "for element in result:\n",
    "    print(element)"
   ],
   "metadata": {
    "trusted": true,
    "ExecuteTime": {
     "end_time": "2024-07-02T02:58:11.060099Z",
     "start_time": "2024-07-02T02:58:11.044972Z"
    }
   },
   "execution_count": 28,
   "outputs": [
    {
     "name": "stdout",
     "output_type": "stream",
     "text": [
      "\n",
      "10\n",
      "20\n",
      "30\n"
     ]
    }
   ]
  },
  {
   "cell_type": "markdown",
   "source": [
    "28) Write a Python program to find all words starting with 'a' or 'e' in a given string."
   ],
   "metadata": {}
  },
  {
   "cell_type": "code",
   "source": [
    "# Solution\n",
    "# Input.\n",
    "text = \"The following example creates an ArrayList with a capacity of 50 elements. Four elements are then added to the ArrayList and the ArrayList is trimmed accordingly.\"\n",
    "#find all the words starting with 'a' or 'e'\n",
    "list = re.findall(\"[ae]\\w+\", text)\n",
    "# Print result.\n",
    "print(list)\n",
    "\t"
   ],
   "metadata": {
    "trusted": true,
    "ExecuteTime": {
     "end_time": "2024-07-02T02:58:11.738884Z",
     "start_time": "2024-07-02T02:58:11.731602Z"
    }
   },
   "execution_count": 29,
   "outputs": [
    {
     "name": "stdout",
     "output_type": "stream",
     "text": [
      "['example', 'eates', 'an', 'ayList', 'apacity', 'elements', 'elements', 'are', 'en', 'added', 'ayList', 'and', 'ayList', 'ed', 'accordingly']\n"
     ]
    }
   ]
  },
  {
   "cell_type": "markdown",
   "source": [
    "29) Write a Python program to separate and print the numbers and their position of a given string."
   ],
   "metadata": {}
  },
  {
   "cell_type": "code",
   "source": [
    "# Solution\n",
    "# Input.\n",
    "text = \"The following example creates an ArrayList with a capacity of 50 elements. Four elements are then added to the ArrayList and the ArrayList is trimmed accordingly.\"\n",
    "\n",
    "for m in re.finditer(\"\\d+\", text):\n",
    "    print(m.group(0))\n",
    "    print(\"Index position:\", m.start())\n",
    "\t"
   ],
   "metadata": {
    "trusted": true,
    "ExecuteTime": {
     "end_time": "2024-07-02T02:58:13.679347Z",
     "start_time": "2024-07-02T02:58:13.659805Z"
    }
   },
   "execution_count": 30,
   "outputs": [
    {
     "name": "stdout",
     "output_type": "stream",
     "text": [
      "50\n",
      "Index position: 62\n"
     ]
    }
   ]
  },
  {
   "cell_type": "markdown",
   "source": [
    "30) Write a Python program to abbreviate 'Road' as 'Rd.' in a given string."
   ],
   "metadata": {}
  },
  {
   "cell_type": "code",
   "source": [
    "# Solution\n",
    "street = '21 Ramkrishna Road'\n",
    "print(re.sub('Road$', 'Rd.', street))"
   ],
   "metadata": {
    "trusted": true,
    "ExecuteTime": {
     "end_time": "2024-07-02T02:58:14.421391Z",
     "start_time": "2024-07-02T02:58:14.398420Z"
    }
   },
   "execution_count": 31,
   "outputs": [
    {
     "name": "stdout",
     "output_type": "stream",
     "text": [
      "21 Ramkrishna Rd.\n"
     ]
    }
   ]
  }
 ]
}
